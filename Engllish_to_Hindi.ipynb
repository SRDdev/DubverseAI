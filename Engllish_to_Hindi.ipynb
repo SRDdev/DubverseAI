{
  "cells": [
    {
      "cell_type": "markdown",
      "metadata": {
        "id": "0JvplqOtWXbb"
      },
      "source": [
        "# DubverseAI\n",
        "This notebook contains the Neural Machine Translation Transformer Model which we have built to Translate English to Hindi Sentences.\n",
        "\n"
      ]
    },
    {
      "cell_type": "code",
      "source": [
        "! pip install wandb"
      ],
      "metadata": {
        "colab": {
          "base_uri": "https://localhost:8080/"
        },
        "id": "W2ow_XY2W4Bb",
        "outputId": "947f6d52-245e-4db4-e813-85c9d427acfe"
      },
      "execution_count": 1,
      "outputs": [
        {
          "output_type": "stream",
          "name": "stdout",
          "text": [
            "Looking in indexes: https://pypi.org/simple, https://us-python.pkg.dev/colab-wheels/public/simple/\n",
            "Requirement already satisfied: wandb in /usr/local/lib/python3.10/dist-packages (0.15.1)\n",
            "Requirement already satisfied: pathtools in /usr/local/lib/python3.10/dist-packages (from wandb) (0.1.2)\n",
            "Requirement already satisfied: sentry-sdk>=1.0.0 in /usr/local/lib/python3.10/dist-packages (from wandb) (1.22.1)\n",
            "Requirement already satisfied: setproctitle in /usr/local/lib/python3.10/dist-packages (from wandb) (1.3.2)\n",
            "Requirement already satisfied: docker-pycreds>=0.4.0 in /usr/local/lib/python3.10/dist-packages (from wandb) (0.4.0)\n",
            "Requirement already satisfied: protobuf!=4.21.0,<5,>=3.19.0 in /usr/local/lib/python3.10/dist-packages (from wandb) (3.20.3)\n",
            "Requirement already satisfied: setuptools in /usr/local/lib/python3.10/dist-packages (from wandb) (67.7.2)\n",
            "Requirement already satisfied: GitPython!=3.1.29,>=1.0.0 in /usr/local/lib/python3.10/dist-packages (from wandb) (3.1.31)\n",
            "Requirement already satisfied: requests<3,>=2.0.0 in /usr/local/lib/python3.10/dist-packages (from wandb) (2.27.1)\n",
            "Requirement already satisfied: appdirs>=1.4.3 in /usr/local/lib/python3.10/dist-packages (from wandb) (1.4.4)\n",
            "Requirement already satisfied: Click!=8.0.0,>=7.0 in /usr/local/lib/python3.10/dist-packages (from wandb) (8.1.3)\n",
            "Requirement already satisfied: psutil>=5.0.0 in /usr/local/lib/python3.10/dist-packages (from wandb) (5.9.5)\n",
            "Requirement already satisfied: PyYAML in /usr/local/lib/python3.10/dist-packages (from wandb) (6.0)\n",
            "Requirement already satisfied: six>=1.4.0 in /usr/local/lib/python3.10/dist-packages (from docker-pycreds>=0.4.0->wandb) (1.16.0)\n",
            "Requirement already satisfied: gitdb<5,>=4.0.1 in /usr/local/lib/python3.10/dist-packages (from GitPython!=3.1.29,>=1.0.0->wandb) (4.0.10)\n",
            "Requirement already satisfied: certifi>=2017.4.17 in /usr/local/lib/python3.10/dist-packages (from requests<3,>=2.0.0->wandb) (2022.12.7)\n",
            "Requirement already satisfied: idna<4,>=2.5 in /usr/local/lib/python3.10/dist-packages (from requests<3,>=2.0.0->wandb) (3.4)\n",
            "Requirement already satisfied: urllib3<1.27,>=1.21.1 in /usr/local/lib/python3.10/dist-packages (from requests<3,>=2.0.0->wandb) (1.26.15)\n",
            "Requirement already satisfied: charset-normalizer~=2.0.0 in /usr/local/lib/python3.10/dist-packages (from requests<3,>=2.0.0->wandb) (2.0.12)\n",
            "Requirement already satisfied: smmap<6,>=3.0.1 in /usr/local/lib/python3.10/dist-packages (from gitdb<5,>=4.0.1->GitPython!=3.1.29,>=1.0.0->wandb) (5.0.0)\n"
          ]
        }
      ]
    },
    {
      "cell_type": "code",
      "source": [
        "import wandb\n",
        "\n",
        "wandb.login()"
      ],
      "metadata": {
        "colab": {
          "base_uri": "https://localhost:8080/"
        },
        "id": "t23Lh15TW6Yy",
        "outputId": "510a62bc-991e-47d7-e651-54dc301e5688"
      },
      "execution_count": 2,
      "outputs": [
        {
          "output_type": "stream",
          "name": "stderr",
          "text": [
            "\u001b[34m\u001b[1mwandb\u001b[0m: Currently logged in as: \u001b[33msrddev\u001b[0m. Use \u001b[1m`wandb login --relogin`\u001b[0m to force relogin\n"
          ]
        },
        {
          "output_type": "execute_result",
          "data": {
            "text/plain": [
              "True"
            ]
          },
          "metadata": {},
          "execution_count": 2
        }
      ]
    },
    {
      "cell_type": "code",
      "source": [
        "wandb.init(project=\"DubverseAI\")"
      ],
      "metadata": {
        "colab": {
          "base_uri": "https://localhost:8080/",
          "height": 125
        },
        "id": "C6q2SvazXYI0",
        "outputId": "1074dab4-24ce-4c91-ede7-21fb191037fc"
      },
      "execution_count": 3,
      "outputs": [
        {
          "output_type": "display_data",
          "data": {
            "text/plain": [
              "<IPython.core.display.HTML object>"
            ],
            "text/html": [
              "Tracking run with wandb version 0.15.1"
            ]
          },
          "metadata": {}
        },
        {
          "output_type": "display_data",
          "data": {
            "text/plain": [
              "<IPython.core.display.HTML object>"
            ],
            "text/html": [
              "Run data is saved locally in <code>/content/wandb/run-20230505_154859-cmc71olz</code>"
            ]
          },
          "metadata": {}
        },
        {
          "output_type": "display_data",
          "data": {
            "text/plain": [
              "<IPython.core.display.HTML object>"
            ],
            "text/html": [
              "Syncing run <strong><a href='https://wandb.ai/srddev/DubverseAI/runs/cmc71olz' target=\"_blank\">clone-wars-14</a></strong> to <a href='https://wandb.ai/srddev/DubverseAI' target=\"_blank\">Weights & Biases</a> (<a href='https://wandb.me/run' target=\"_blank\">docs</a>)<br/>"
            ]
          },
          "metadata": {}
        },
        {
          "output_type": "display_data",
          "data": {
            "text/plain": [
              "<IPython.core.display.HTML object>"
            ],
            "text/html": [
              " View project at <a href='https://wandb.ai/srddev/DubverseAI' target=\"_blank\">https://wandb.ai/srddev/DubverseAI</a>"
            ]
          },
          "metadata": {}
        },
        {
          "output_type": "display_data",
          "data": {
            "text/plain": [
              "<IPython.core.display.HTML object>"
            ],
            "text/html": [
              " View run at <a href='https://wandb.ai/srddev/DubverseAI/runs/cmc71olz' target=\"_blank\">https://wandb.ai/srddev/DubverseAI/runs/cmc71olz</a>"
            ]
          },
          "metadata": {}
        },
        {
          "output_type": "execute_result",
          "data": {
            "text/html": [
              "<button onClick=\"this.nextSibling.style.display='block';this.style.display='none';\">Display W&B run</button><iframe src='https://wandb.ai/srddev/DubverseAI/runs/cmc71olz?jupyter=true' style='border:none;width:100%;height:420px;display:none;'></iframe>"
            ],
            "text/plain": [
              "<wandb.sdk.wandb_run.Run at 0x7fad36e3c640>"
            ]
          },
          "metadata": {},
          "execution_count": 3
        }
      ]
    },
    {
      "cell_type": "markdown",
      "metadata": {
        "id": "t52oTfdKW29A"
      },
      "source": [
        "#### Imports"
      ]
    },
    {
      "cell_type": "code",
      "execution_count": 4,
      "metadata": {
        "id": "aSFwatuSUHSj"
      },
      "outputs": [],
      "source": [
        "import pathlib\n",
        "import random\n",
        "import string\n",
        "import re\n",
        "import numpy as np\n",
        "import matplotlib.pyplot as plt\n",
        "%matplotlib inline\n",
        "\n",
        "import tensorflow as tf\n",
        "from tensorflow import keras\n",
        "from tensorflow.keras import layers\n",
        "from tensorflow.keras.layers import TextVectorization\n",
        "from tensorflow.keras.layers import Bidirectional,GRU,LSTM,Embedding\n",
        "from tensorflow.keras.layers import Dense,MultiHeadAttention,LayerNormalization,Embedding,Dropout,Layer\n",
        "from tensorflow.keras import Sequential,Input\n",
        "from tensorflow.keras.callbacks import ModelCheckpoint\n",
        "\n",
        "from nltk.translate.bleu_score import sentence_bleu"
      ]
    },
    {
      "cell_type": "markdown",
      "metadata": {
        "id": "y2WXKdFdW45L"
      },
      "source": [
        "#### Data prepration"
      ]
    },
    {
      "cell_type": "code",
      "execution_count": 5,
      "metadata": {
        "colab": {
          "base_uri": "https://localhost:8080/"
        },
        "id": "STYZ5RNOM7Xh",
        "outputId": "d70a1f01-5e80-4fc8-96d3-50021db35b41"
      },
      "outputs": [
        {
          "output_type": "stream",
          "name": "stdout",
          "text": [
            "Drive already mounted at /content/drive; to attempt to forcibly remount, call drive.mount(\"/content/drive\", force_remount=True).\n"
          ]
        }
      ],
      "source": [
        "from google.colab import drive\n",
        "drive.mount('/content/drive')"
      ]
    },
    {
      "cell_type": "code",
      "execution_count": 6,
      "metadata": {
        "id": "SsZNu_9fOCQS"
      },
      "outputs": [],
      "source": [
        "import pandas as pd\n",
        "import pathlib\n",
        "\n",
        "train_data = pd.read_csv('/content/drive/MyDrive/NeuroHack/data/NeuroHack_train.csv')\n",
        "col1 = train_data[\"English\"]\n",
        "col2 = train_data['Hindi']\n",
        "with open('train.txt', 'w') as f:\n",
        "    for i in range(len(col1)):\n",
        "        f.write(col1[i]+col2[i])\n",
        "\n",
        "val_data = pd.read_csv('/content/drive/MyDrive/NeuroHack/data/NeuroHack_valid.csv')\n",
        "col1 = val_data[\"English\"]\n",
        "col2 = val_data['Hindi']\n",
        "with open('val.txt', 'w') as f:\n",
        "    for i in range(len(col1)):\n",
        "        f.write(col1[i]+col2[i])"
      ]
    },
    {
      "cell_type": "code",
      "execution_count": 7,
      "metadata": {
        "id": "UA2S2hLZOtK0"
      },
      "outputs": [],
      "source": [
        "English = []\n",
        "Hindi = []\n",
        "def lines_tag(file_path):\n",
        "    with open(file_path, 'r') as file:\n",
        "        lines = file.readlines()\n",
        "        for i, line in enumerate(lines):\n",
        "            if (i+1) % 2 == 0:\n",
        "                Hindi.append(\"[start] \" + line + \" [end]\")\n",
        "            else:\n",
        "              English.append(line)"
      ]
    },
    {
      "cell_type": "code",
      "execution_count": 8,
      "metadata": {
        "id": "o8BFxqVCTE0k"
      },
      "outputs": [],
      "source": [
        "def lines_tag(file_path):\n",
        "  Hindi = []\n",
        "  English = []\n",
        "  with open(file_path, 'r') as file:\n",
        "        lines = file.readlines()\n",
        "        for i, line in enumerate(lines):\n",
        "            if (i+1) % 2 == 0:\n",
        "                Hindi.append(\"[start] \" + line + \" [end]\")\n",
        "            else:\n",
        "                English.append(line)\n",
        "  return English,Hindi"
      ]
    },
    {
      "cell_type": "code",
      "execution_count": 9,
      "metadata": {
        "id": "et5yrvpuSad2"
      },
      "outputs": [],
      "source": [
        "train_English , train_Hindi = lines_tag('/content/train.txt')\n",
        "train_pairs = []\n",
        "for i in range(0,len(train_English)):\n",
        "  train_pairs.append((train_English[i],train_Hindi[i]))"
      ]
    },
    {
      "cell_type": "code",
      "source": [
        "val_English , val_Hindi  = lines_tag('/content/val.txt')\n",
        "val_pairs = []\n",
        "for i in range(0,len(val_English)):\n",
        "  val_pairs.append((val_English[i],val_Hindi[i]))"
      ],
      "metadata": {
        "id": "KaFIS82CfS-F"
      },
      "execution_count": 10,
      "outputs": []
    },
    {
      "cell_type": "code",
      "execution_count": 11,
      "metadata": {
        "colab": {
          "base_uri": "https://localhost:8080/"
        },
        "id": "3PbecggUaVUl",
        "outputId": "086a5c2f-8fc6-4900-893d-804956c6dc86"
      },
      "outputs": [
        {
          "output_type": "execute_result",
          "data": {
            "text/plain": [
              "('Program module is a file that contains instructions which are either in the form of source code or machine language.\\n',\n",
              " '[start] माड्यूल, एक संचिका होती है, जिसमें या तो स्रोत कोड या मशीन भाषा के रूप में अनुदेश निहित होते हैं।\\n [end]')"
            ]
          },
          "metadata": {},
          "execution_count": 11
        }
      ],
      "source": [
        "train_pairs[0]"
      ]
    },
    {
      "cell_type": "markdown",
      "metadata": {
        "id": "KcFrX5dQXDCM"
      },
      "source": [
        "#### Preprocessing Data"
      ]
    },
    {
      "cell_type": "code",
      "execution_count": 12,
      "metadata": {
        "id": "oxQXFLKNTwrt"
      },
      "outputs": [],
      "source": [
        "import string\n",
        "strip_chars = string.punctuation + \"¿\"\n",
        "strip_chars = string.punctuation + \"\\n\"\n",
        "strip_chars = strip_chars.replace(\"[\", \"\")\n",
        "strip_chars = strip_chars.replace(\"]\", \"\")"
      ]
    },
    {
      "cell_type": "code",
      "execution_count": 13,
      "metadata": {
        "id": "X9m7QB-1Tyyn"
      },
      "outputs": [],
      "source": [
        "def custom_standardization(input_string):\n",
        "    lowercase = tf.strings.lower(input_string)\n",
        "    return tf.strings.regex_replace(\n",
        "        lowercase, f\"[{re.escape(strip_chars)}]\", \"\")"
      ]
    },
    {
      "cell_type": "code",
      "execution_count": 14,
      "metadata": {
        "id": "0sHUoRFQT2o9"
      },
      "outputs": [],
      "source": [
        "vocab_size = 2531\n",
        "sequence_length = 160\n",
        "\n",
        "source_vectorization = TextVectorization(\n",
        "    max_tokens=vocab_size,\n",
        "    output_mode=\"int\",\n",
        "    output_sequence_length=sequence_length,\n",
        ")\n",
        "target_vectorization = TextVectorization(\n",
        "    max_tokens=vocab_size,\n",
        "    output_mode=\"int\",\n",
        "    output_sequence_length=sequence_length + 1,\n",
        "    standardize=custom_standardization,\n",
        ")\n",
        "train_english_texts = [pair[0] for pair in train_pairs]\n",
        "train_hinglish_texts = [pair[1] for pair in train_pairs]\n",
        "source_vectorization.adapt(train_english_texts)\n",
        "target_vectorization.adapt(train_hinglish_texts)"
      ]
    },
    {
      "cell_type": "code",
      "execution_count": 15,
      "metadata": {
        "id": "tzp6i6NHUJgF"
      },
      "outputs": [],
      "source": [
        "vocab_size = 2531\n",
        "sequence_length = 160\n",
        "\n",
        "source_vectorization = TextVectorization(\n",
        "    max_tokens=vocab_size,\n",
        "    output_mode=\"int\",\n",
        "    output_sequence_length=sequence_length,\n",
        ")\n",
        "target_vectorization = TextVectorization(\n",
        "    max_tokens=vocab_size,\n",
        "    output_mode=\"int\",\n",
        "    output_sequence_length=sequence_length + 1,\n",
        "    standardize=custom_standardization,\n",
        ")\n",
        "train_english_texts = [pair[0] for pair in train_pairs]\n",
        "train_hindi_texts = [pair[1] for pair in train_pairs]\n",
        "source_vectorization.adapt(train_english_texts)\n",
        "target_vectorization.adapt(train_hindi_texts)\n",
        "batch_size = 32\n",
        "\n",
        "def format_dataset(eng, hindi):\n",
        "    eng = source_vectorization(eng)\n",
        "    hindi = target_vectorization(hindi)\n",
        "    return ({\n",
        "        \"english\": eng,\n",
        "        \"hindi\": hindi[:, :-1],\n",
        "    }, hindi[:, 1:])\n",
        "\n",
        "def make_dataset(pairs):\n",
        "    eng_texts, hindi_texts = zip(*pairs)\n",
        "    eng_texts = list(eng_texts)\n",
        "    hindi_texts = list(hindi_texts)\n",
        "    dataset = tf.data.Dataset.from_tensor_slices((eng_texts, hindi_texts))\n",
        "    dataset = dataset.batch(batch_size)\n",
        "    dataset = dataset.map(format_dataset, num_parallel_calls=4)\n",
        "    return dataset.shuffle(2048).prefetch(16).cache()\n",
        "\n",
        "train_ds = make_dataset(train_pairs)\n",
        "val_ds = make_dataset(val_pairs)"
      ]
    },
    {
      "cell_type": "code",
      "execution_count": 16,
      "metadata": {
        "colab": {
          "base_uri": "https://localhost:8080/"
        },
        "id": "j3Yg0lwEU5iu",
        "outputId": "b6e4e8f1-1e1b-42d7-b272-35356497049e"
      },
      "outputs": [
        {
          "output_type": "stream",
          "name": "stdout",
          "text": [
            "english\n",
            " [[   2  301    3 ...    0    0    0]\n",
            " [  14    9   69 ...    0    0    0]\n",
            " [   6  239 1681 ...    0    0    0]\n",
            " ...\n",
            " [   2  941    3 ...    0    0    0]\n",
            " [1123    2 1175 ...    0    0    0]\n",
            " [   2    1   27 ...    0    0    0]]\n",
            "------------------------------------------------\n",
            "hindi\n",
            " [[   2  821    6 ...    0    0    0]\n",
            " [   2    6  459 ...    0    0    0]\n",
            " [   2  277    5 ...    0    0    0]\n",
            " ...\n",
            " [   2 1677    9 ...    0    0    0]\n",
            " [   2 1750    1 ...    0    0    0]\n",
            " [   2 1730    1 ...    0    0    0]]\n"
          ]
        }
      ],
      "source": [
        "for inputs, targets in train_ds.take(1):\n",
        "    print(f\"english\\n {inputs['english']}\")\n",
        "    print(\"------------------------------------------------\")\n",
        "    print(f\"hindi\\n {inputs['hindi']}\")"
      ]
    },
    {
      "cell_type": "markdown",
      "metadata": {
        "id": "BAsB5sBmXHl7"
      },
      "source": [
        "#### Building Transformer Model"
      ]
    },
    {
      "cell_type": "markdown",
      "metadata": {
        "id": "Fs7yPH2IXK41"
      },
      "source": [
        "##### Encoder"
      ]
    },
    {
      "cell_type": "code",
      "execution_count": 17,
      "metadata": {
        "id": "LCBAS4rkU8tt"
      },
      "outputs": [],
      "source": [
        "class TransformerEncoder(layers.Layer):\n",
        "    def __init__(self, embed_dim, dense_dim, num_heads, **kwargs):\n",
        "        super().__init__(**kwargs)\n",
        "        self.embed_dim = embed_dim\n",
        "        self.dense_dim = dense_dim\n",
        "        self.num_heads = num_heads\n",
        "        self.attention = layers.MultiHeadAttention(\n",
        "            num_heads=num_heads, key_dim=embed_dim\n",
        "        )\n",
        "        self.dense_proj = keras.Sequential(\n",
        "            [layers.Dense(dense_dim, activation=\"relu\"), layers.Dense(embed_dim),]\n",
        "        )\n",
        "        self.layernorm_1 = layers.LayerNormalization()\n",
        "        self.layernorm_2 = layers.LayerNormalization()\n",
        "        self.supports_masking = True\n",
        "\n",
        "    def call(self, inputs, mask=None):\n",
        "        if mask is not None:\n",
        "            padding_mask = tf.cast(mask[:, tf.newaxis, :], dtype=\"int32\")\n",
        "        attention_output = self.attention(\n",
        "            query=inputs, value=inputs, key=inputs, attention_mask=padding_mask\n",
        "        )\n",
        "        proj_input = self.layernorm_1(inputs + attention_output)\n",
        "        proj_output = self.dense_proj(proj_input)\n",
        "        return self.layernorm_2(proj_input + proj_output)"
      ]
    },
    {
      "cell_type": "markdown",
      "metadata": {
        "id": "bAqPaDdcXM5a"
      },
      "source": [
        "##### Decoder"
      ]
    },
    {
      "cell_type": "code",
      "execution_count": 18,
      "metadata": {
        "id": "yPLzeTR3VFtT"
      },
      "outputs": [],
      "source": [
        "class TransformerDecoder(layers.Layer):\n",
        "    def __init__(self, embed_dim, latent_dim, num_heads, **kwargs):\n",
        "        super().__init__(**kwargs)\n",
        "        self.embed_dim = embed_dim\n",
        "        self.latent_dim = latent_dim\n",
        "        self.num_heads = num_heads\n",
        "        self.attention_1 = layers.MultiHeadAttention(\n",
        "            num_heads=num_heads, key_dim=embed_dim\n",
        "        )\n",
        "        self.attention_2 = layers.MultiHeadAttention(\n",
        "            num_heads=num_heads, key_dim=embed_dim\n",
        "        )\n",
        "        self.dense_proj = keras.Sequential(\n",
        "            [layers.Dense(latent_dim, activation=\"relu\"), layers.Dense(embed_dim),]\n",
        "        )\n",
        "        self.layernorm_1 = layers.LayerNormalization()\n",
        "        self.layernorm_2 = layers.LayerNormalization()\n",
        "        self.layernorm_3 = layers.LayerNormalization()\n",
        "        self.supports_masking = True\n",
        "\n",
        "    def call(self, inputs, encoder_outputs, mask=None):\n",
        "        causal_mask = self.get_causal_attention_mask(inputs)\n",
        "        if mask is not None:\n",
        "            padding_mask = tf.cast(mask[:, tf.newaxis, :], dtype=\"int32\")\n",
        "            padding_mask = tf.minimum(padding_mask, causal_mask)\n",
        "\n",
        "        attention_output_1 = self.attention_1(\n",
        "            query=inputs, value=inputs, key=inputs, attention_mask=causal_mask\n",
        "        )\n",
        "        out_1 = self.layernorm_1(inputs + attention_output_1)\n",
        "\n",
        "        attention_output_2 = self.attention_2(\n",
        "            query=out_1,\n",
        "            value=encoder_outputs,\n",
        "            key=encoder_outputs,\n",
        "            attention_mask=padding_mask,\n",
        "        )\n",
        "        out_2 = self.layernorm_2(out_1 + attention_output_2)\n",
        "\n",
        "        proj_output = self.dense_proj(out_2)\n",
        "        return self.layernorm_3(out_2 + proj_output)\n",
        "\n",
        "    def get_causal_attention_mask(self, inputs):\n",
        "        input_shape = tf.shape(inputs)\n",
        "        batch_size, sequence_length = input_shape[0], input_shape[1]\n",
        "        i = tf.range(sequence_length)[:, tf.newaxis]\n",
        "        j = tf.range(sequence_length)\n",
        "        mask = tf.cast(i >= j, dtype=\"int32\")\n",
        "        mask = tf.reshape(mask, (1, input_shape[1], input_shape[1]))\n",
        "        mult = tf.concat(\n",
        "            [tf.expand_dims(batch_size, -1), tf.constant([1, 1], dtype=tf.int32)],\n",
        "            axis=0,\n",
        "        )\n",
        "        return tf.tile(mask, mult)"
      ]
    },
    {
      "cell_type": "markdown",
      "metadata": {
        "id": "rOxEISqHXOjj"
      },
      "source": [
        "##### POS"
      ]
    },
    {
      "cell_type": "code",
      "execution_count": 19,
      "metadata": {
        "id": "D9gvBOeXVItU"
      },
      "outputs": [],
      "source": [
        "class PositionalEmbedding(layers.Layer):\n",
        "    def __init__(self, sequence_length, vocab_size, embed_dim, **kwargs):\n",
        "        super().__init__(**kwargs)\n",
        "        self.token_embeddings = layers.Embedding(\n",
        "            input_dim=vocab_size, output_dim=embed_dim\n",
        "        )\n",
        "        self.position_embeddings = layers.Embedding(\n",
        "            input_dim=sequence_length, output_dim=embed_dim\n",
        "        )\n",
        "        self.sequence_length = sequence_length\n",
        "        self.vocab_size = vocab_size\n",
        "        self.embed_dim = embed_dim\n",
        "\n",
        "    def call(self, inputs):\n",
        "        length = tf.shape(inputs)[-1]\n",
        "        positions = tf.range(start=0, limit=length, delta=1)\n",
        "        embedded_tokens = self.token_embeddings(inputs)\n",
        "        embedded_positions = self.position_embeddings(positions)\n",
        "        return embedded_tokens + embedded_positions\n",
        "\n",
        "    def compute_mask(self, inputs, mask=None):\n",
        "        return tf.math.not_equal(inputs, 0)"
      ]
    },
    {
      "cell_type": "code",
      "source": [
        "class TransformerModel(tf.keras.models.Model):\n",
        "    def __init__(self, sequence_length, vocab_size, embed_dim=256, dense_dim=2048, num_heads=8):\n",
        "        super(TransformerModel, self).__init__()\n",
        "        self.embed_dim = embed_dim\n",
        "        self.dense_dim = dense_dim\n",
        "        self.num_heads = num_heads\n",
        "        self.sequence_length = sequence_length\n",
        "        self.vocab_size = vocab_size\n",
        "\n",
        "        self.encoder_inputs = keras.Input(shape=(None,), dtype=\"int64\", name=\"english\")\n",
        "        self.x = PositionalEmbedding(self.sequence_length, self.vocab_size, self.embed_dim)(self.encoder_inputs)\n",
        "        self.encoder_outputs = TransformerEncoder(self.embed_dim, self.dense_dim, self.num_heads)(self.x)\n",
        "\n",
        "        self.decoder_inputs = keras.Input(shape=(None,), dtype=\"int64\", name=\"hindi\")\n",
        "        self.x = PositionalEmbedding(self.sequence_length, self.vocab_size, self.embed_dim)(self.decoder_inputs)\n",
        "        self.x = TransformerDecoder(self.embed_dim, self.dense_dim, self.num_heads)(self.x, self.encoder_outputs)\n",
        "        self.x = Dropout(0.25)(self.x)\n",
        "        self.decoder_outputs = Dense(self.vocab_size, activation=\"softmax\")(self.x)\n",
        "\n",
        "    def call(self):\n",
        "        return keras.Model([self.encoder_inputs, self.decoder_inputs], self.decoder_outputs)"
      ],
      "metadata": {
        "id": "_R7jyyYv_6LQ"
      },
      "execution_count": 20,
      "outputs": []
    },
    {
      "cell_type": "code",
      "source": [
        "transformer_model = TransformerModel(sequence_length=160, vocab_size=2531)\n",
        "model = transformer_model.call()"
      ],
      "metadata": {
        "id": "_DwSuq59ApVX"
      },
      "execution_count": 22,
      "outputs": []
    },
    {
      "cell_type": "code",
      "source": [
        "model_config = model.get_config()"
      ],
      "metadata": {
        "id": "bmwj5TmVArRH"
      },
      "execution_count": 23,
      "outputs": []
    },
    {
      "cell_type": "code",
      "execution_count": 24,
      "metadata": {
        "colab": {
          "base_uri": "https://localhost:8080/",
          "height": 644
        },
        "id": "f-iIGSfcVOPw",
        "outputId": "3a8c8cba-96cf-48b5-9e94-2410a945d960"
      },
      "outputs": [
        {
          "output_type": "execute_result",
          "data": {
            "image/png": "[encoded data removed]",
            "text/plain": [
              "<IPython.core.display.Image object>"
            ]
          },
          "metadata": {},
          "execution_count": 24
        }
      ],
      "source": [
        "from tensorflow.keras.utils import plot_model\n",
        "plot_model(model, to_file='translator.png', show_shapes=True)\n",
        "from IPython.display import Image\n",
        "Image(\"translator.png\")"
      ]
    },
    {
      "cell_type": "code",
      "execution_count": 25,
      "metadata": {
        "id": "XLTpJbrwVR8x"
      },
      "outputs": [],
      "source": [
        "EPOCHS = 70"
      ]
    },
    {
      "cell_type": "code",
      "execution_count": 26,
      "metadata": {
        "id": "_f8slM8vVfTe"
      },
      "outputs": [],
      "source": [
        "checkpoint = ModelCheckpoint(filepath='DubverseAI.hdf5',save_weights_only=True,verbose=2,monitor='accuracy')"
      ]
    },
    {
      "cell_type": "code",
      "source": [
        "from wandb.keras import WandbCallback\n",
        "\n",
        "callbacks = [checkpoint, WandbCallback()]\n",
        "\n",
        "model.compile(optimizer=\"Adam\",loss=\"sparse_categorical_crossentropy\",metrics=[\"accuracy\"])\n",
        "history = model.fit(train_ds, epochs=EPOCHS, callbacks=callbacks, validation_data=val_ds)"
      ],
      "metadata": {
        "colab": {
          "base_uri": "https://localhost:8080/"
        },
        "id": "-yLG07hoXfAs",
        "outputId": "5aa921bd-e5d9-4ace-9a3d-7651cf50694f"
      },
      "execution_count": 28,
      "outputs": [
        {
          "output_type": "stream",
          "name": "stdout",
          "text": [
            "Epoch 1/70\n",
            "81/81 [==============================] - ETA: 0s - loss: 5.2105 - accuracy: 0.2372\n",
            "Epoch 1: saving model to DubverseAI.hdf5\n"
          ]
        },
        {
          "output_type": "stream",
          "name": "stderr",
          "text": [
            "WARNING:absl:Found untraced functions such as embedding_4_layer_call_fn, embedding_4_layer_call_and_return_conditional_losses, embedding_5_layer_call_fn, embedding_5_layer_call_and_return_conditional_losses, embedding_6_layer_call_fn while saving (showing 5 of 60). These functions will not be directly callable after loading.\n",
            "\u001b[34m\u001b[1mwandb\u001b[0m: Adding directory to artifact (/content/wandb/run-20230505_154859-cmc71olz/files/model-best)... Done. 0.4s\n"
          ]
        },
        {
          "output_type": "stream",
          "name": "stdout",
          "text": [
            "\b\b\b\b\b\b\b\b\b\b\b\b\b\b\b\b\b\b\b\b\b\b\b\b\b\b\b\b\b\b\b\b\b\b\b\b\b\b\b\b\b\b\b\b\b\b\b\b\b\b\b\b\b\b\b\b\b\b\b\b\b\b\b\b\b\b\b\b\b\b\b\b\b\b\b\b\b\b\b\b\b\b\r81/81 [==============================] - 57s 567ms/step - loss: 5.2105 - accuracy: 0.2372 - val_loss: 4.3736 - val_accuracy: 0.3090\n",
            "Epoch 2/70\n",
            "81/81 [==============================] - ETA: 0s - loss: 4.2132 - accuracy: 0.3039\n",
            "Epoch 2: saving model to DubverseAI.hdf5\n"
          ]
        },
        {
          "output_type": "stream",
          "name": "stderr",
          "text": [
            "WARNING:absl:Found untraced functions such as embedding_4_layer_call_fn, embedding_4_layer_call_and_return_conditional_losses, embedding_5_layer_call_fn, embedding_5_layer_call_and_return_conditional_losses, embedding_6_layer_call_fn while saving (showing 5 of 60). These functions will not be directly callable after loading.\n",
            "\u001b[34m\u001b[1mwandb\u001b[0m: Adding directory to artifact (/content/wandb/run-20230505_154859-cmc71olz/files/model-best)... Done. 0.5s\n"
          ]
        },
        {
          "output_type": "stream",
          "name": "stdout",
          "text": [
            "\b\b\b\b\b\b\b\b\b\b\b\b\b\b\b\b\b\b\b\b\b\b\b\b\b\b\b\b\b\b\b\b\b\b\b\b\b\b\b\b\b\b\b\b\b\b\b\b\b\b\b\b\b\b\b\b\b\b\b\b\b\b\b\b\b\b\b\b\b\b\b\b\b\b\b\b\b\b\b\b\b\b\r81/81 [==============================] - 19s 232ms/step - loss: 4.2132 - accuracy: 0.3039 - val_loss: 3.9482 - val_accuracy: 0.3397\n",
            "Epoch 3/70\n",
            "81/81 [==============================] - ETA: 0s - loss: 3.4943 - accuracy: 0.3655\n",
            "Epoch 3: saving model to DubverseAI.hdf5\n"
          ]
        },
        {
          "output_type": "stream",
          "name": "stderr",
          "text": [
            "WARNING:absl:Found untraced functions such as embedding_4_layer_call_fn, embedding_4_layer_call_and_return_conditional_losses, embedding_5_layer_call_fn, embedding_5_layer_call_and_return_conditional_losses, embedding_6_layer_call_fn while saving (showing 5 of 60). These functions will not be directly callable after loading.\n",
            "\u001b[34m\u001b[1mwandb\u001b[0m: Adding directory to artifact (/content/wandb/run-20230505_154859-cmc71olz/files/model-best)... Done. 0.4s\n"
          ]
        },
        {
          "output_type": "stream",
          "name": "stdout",
          "text": [
            "\b\b\b\b\b\b\b\b\b\b\b\b\b\b\b\b\b\b\b\b\b\b\b\b\b\b\b\b\b\b\b\b\b\b\b\b\b\b\b\b\b\b\b\b\b\b\b\b\b\b\b\b\b\b\b\b\b\b\b\b\b\b\b\b\b\b\b\b\b\b\b\b\b\b\b\b\b\b\b\b\b\b\r81/81 [==============================] - 20s 250ms/step - loss: 3.4943 - accuracy: 0.3655 - val_loss: 3.6323 - val_accuracy: 0.3599\n",
            "Epoch 4/70\n",
            "81/81 [==============================] - ETA: 0s - loss: 2.8286 - accuracy: 0.4501\n",
            "Epoch 4: saving model to DubverseAI.hdf5\n"
          ]
        },
        {
          "output_type": "stream",
          "name": "stderr",
          "text": [
            "WARNING:absl:Found untraced functions such as embedding_4_layer_call_fn, embedding_4_layer_call_and_return_conditional_losses, embedding_5_layer_call_fn, embedding_5_layer_call_and_return_conditional_losses, embedding_6_layer_call_fn while saving (showing 5 of 60). These functions will not be directly callable after loading.\n",
            "\u001b[34m\u001b[1mwandb\u001b[0m: Adding directory to artifact (/content/wandb/run-20230505_154859-cmc71olz/files/model-best)... Done. 0.4s\n"
          ]
        },
        {
          "output_type": "stream",
          "name": "stdout",
          "text": [
            "\b\b\b\b\b\b\b\b\b\b\b\b\b\b\b\b\b\b\b\b\b\b\b\b\b\b\b\b\b\b\b\b\b\b\b\b\b\b\b\b\b\b\b\b\b\b\b\b\b\b\b\b\b\b\b\b\b\b\b\b\b\b\b\b\b\b\b\b\b\b\b\b\b\b\b\b\b\b\b\b\b\b\r81/81 [==============================] - 20s 248ms/step - loss: 2.8286 - accuracy: 0.4501 - val_loss: 3.4076 - val_accuracy: 0.3791\n",
            "Epoch 5/70\n",
            "81/81 [==============================] - ETA: 0s - loss: 2.2217 - accuracy: 0.5434\n",
            "Epoch 5: saving model to DubverseAI.hdf5\n"
          ]
        },
        {
          "output_type": "stream",
          "name": "stderr",
          "text": [
            "WARNING:absl:Found untraced functions such as embedding_4_layer_call_fn, embedding_4_layer_call_and_return_conditional_losses, embedding_5_layer_call_fn, embedding_5_layer_call_and_return_conditional_losses, embedding_6_layer_call_fn while saving (showing 5 of 60). These functions will not be directly callable after loading.\n",
            "\u001b[34m\u001b[1mwandb\u001b[0m: Adding directory to artifact (/content/wandb/run-20230505_154859-cmc71olz/files/model-best)... Done. 0.4s\n"
          ]
        },
        {
          "output_type": "stream",
          "name": "stdout",
          "text": [
            "\b\b\b\b\b\b\b\b\b\b\b\b\b\b\b\b\b\b\b\b\b\b\b\b\b\b\b\b\b\b\b\b\b\b\b\b\b\b\b\b\b\b\b\b\b\b\b\b\b\b\b\b\b\b\b\b\b\b\b\b\b\b\b\b\b\b\b\b\b\b\b\b\b\b\b\b\b\b\b\b\b\b\r81/81 [==============================] - 19s 234ms/step - loss: 2.2217 - accuracy: 0.5434 - val_loss: 3.1797 - val_accuracy: 0.4205\n",
            "Epoch 6/70\n",
            "81/81 [==============================] - ETA: 0s - loss: 1.6824 - accuracy: 0.6449\n",
            "Epoch 6: saving model to DubverseAI.hdf5\n"
          ]
        },
        {
          "output_type": "stream",
          "name": "stderr",
          "text": [
            "WARNING:absl:Found untraced functions such as embedding_4_layer_call_fn, embedding_4_layer_call_and_return_conditional_losses, embedding_5_layer_call_fn, embedding_5_layer_call_and_return_conditional_losses, embedding_6_layer_call_fn while saving (showing 5 of 60). These functions will not be directly callable after loading.\n",
            "\u001b[34m\u001b[1mwandb\u001b[0m: Adding directory to artifact (/content/wandb/run-20230505_154859-cmc71olz/files/model-best)... Done. 0.4s\n"
          ]
        },
        {
          "output_type": "stream",
          "name": "stdout",
          "text": [
            "\b\b\b\b\b\b\b\b\b\b\b\b\b\b\b\b\b\b\b\b\b\b\b\b\b\b\b\b\b\b\b\b\b\b\b\b\b\b\b\b\b\b\b\b\b\b\b\b\b\b\b\b\b\b\b\b\b\b\b\b\b\b\b\b\b\b\b\b\b\b\b\b\b\b\b\b\b\b\b\b\b\b\r81/81 [==============================] - 20s 253ms/step - loss: 1.6824 - accuracy: 0.6449 - val_loss: 2.9206 - val_accuracy: 0.4873\n",
            "Epoch 7/70\n",
            "81/81 [==============================] - ETA: 0s - loss: 1.2161 - accuracy: 0.7385\n",
            "Epoch 7: saving model to DubverseAI.hdf5\n"
          ]
        },
        {
          "output_type": "stream",
          "name": "stderr",
          "text": [
            "WARNING:absl:Found untraced functions such as embedding_4_layer_call_fn, embedding_4_layer_call_and_return_conditional_losses, embedding_5_layer_call_fn, embedding_5_layer_call_and_return_conditional_losses, embedding_6_layer_call_fn while saving (showing 5 of 60). These functions will not be directly callable after loading.\n",
            "\u001b[34m\u001b[1mwandb\u001b[0m: Adding directory to artifact (/content/wandb/run-20230505_154859-cmc71olz/files/model-best)... Done. 0.4s\n"
          ]
        },
        {
          "output_type": "stream",
          "name": "stdout",
          "text": [
            "\b\b\b\b\b\b\b\b\b\b\b\b\b\b\b\b\b\b\b\b\b\b\b\b\b\b\b\b\b\b\b\b\b\b\b\b\b\b\b\b\b\b\b\b\b\b\b\b\b\b\b\b\b\b\b\b\b\b\b\b\b\b\b\b\b\b\b\b\b\b\b\b\b\b\b\b\b\b\b\b\b\b\r81/81 [==============================] - 20s 242ms/step - loss: 1.2161 - accuracy: 0.7385 - val_loss: 2.6205 - val_accuracy: 0.5508\n",
            "Epoch 8/70\n",
            "81/81 [==============================] - ETA: 0s - loss: 0.8563 - accuracy: 0.8130\n",
            "Epoch 8: saving model to DubverseAI.hdf5\n"
          ]
        },
        {
          "output_type": "stream",
          "name": "stderr",
          "text": [
            "WARNING:absl:Found untraced functions such as embedding_4_layer_call_fn, embedding_4_layer_call_and_return_conditional_losses, embedding_5_layer_call_fn, embedding_5_layer_call_and_return_conditional_losses, embedding_6_layer_call_fn while saving (showing 5 of 60). These functions will not be directly callable after loading.\n",
            "\u001b[34m\u001b[1mwandb\u001b[0m: Adding directory to artifact (/content/wandb/run-20230505_154859-cmc71olz/files/model-best)... Done. 0.4s\n"
          ]
        },
        {
          "output_type": "stream",
          "name": "stdout",
          "text": [
            "\b\b\b\b\b\b\b\b\b\b\b\b\b\b\b\b\b\b\b\b\b\b\b\b\b\b\b\b\b\b\b\b\b\b\b\b\b\b\b\b\b\b\b\b\b\b\b\b\b\b\b\b\b\b\b\b\b\b\b\b\b\b\b\b\b\b\b\b\b\b\b\b\b\b\b\b\b\b\b\b\b\b\r81/81 [==============================] - 19s 229ms/step - loss: 0.8563 - accuracy: 0.8130 - val_loss: 2.3904 - val_accuracy: 0.6084\n",
            "Epoch 9/70\n",
            "81/81 [==============================] - ETA: 0s - loss: 0.5985 - accuracy: 0.8693\n",
            "Epoch 9: saving model to DubverseAI.hdf5\n"
          ]
        },
        {
          "output_type": "stream",
          "name": "stderr",
          "text": [
            "WARNING:absl:Found untraced functions such as embedding_4_layer_call_fn, embedding_4_layer_call_and_return_conditional_losses, embedding_5_layer_call_fn, embedding_5_layer_call_and_return_conditional_losses, embedding_6_layer_call_fn while saving (showing 5 of 60). These functions will not be directly callable after loading.\n",
            "\u001b[34m\u001b[1mwandb\u001b[0m: Adding directory to artifact (/content/wandb/run-20230505_154859-cmc71olz/files/model-best)... Done. 0.4s\n"
          ]
        },
        {
          "output_type": "stream",
          "name": "stdout",
          "text": [
            "\b\b\b\b\b\b\b\b\b\b\b\b\b\b\b\b\b\b\b\b\b\b\b\b\b\b\b\b\b\b\b\b\b\b\b\b\b\b\b\b\b\b\b\b\b\b\b\b\b\b\b\b\b\b\b\b\b\b\b\b\b\b\b\b\b\b\b\b\b\b\b\b\b\b\b\b\b\b\b\b\b\b\r81/81 [==============================] - 21s 255ms/step - loss: 0.5985 - accuracy: 0.8693 - val_loss: 2.2575 - val_accuracy: 0.6674\n",
            "Epoch 10/70\n",
            "81/81 [==============================] - ETA: 0s - loss: 0.4374 - accuracy: 0.9046\n",
            "Epoch 10: saving model to DubverseAI.hdf5\n"
          ]
        },
        {
          "output_type": "stream",
          "name": "stderr",
          "text": [
            "WARNING:absl:Found untraced functions such as embedding_4_layer_call_fn, embedding_4_layer_call_and_return_conditional_losses, embedding_5_layer_call_fn, embedding_5_layer_call_and_return_conditional_losses, embedding_6_layer_call_fn while saving (showing 5 of 60). These functions will not be directly callable after loading.\n",
            "\u001b[34m\u001b[1mwandb\u001b[0m: Adding directory to artifact (/content/wandb/run-20230505_154859-cmc71olz/files/model-best)... Done. 0.5s\n"
          ]
        },
        {
          "output_type": "stream",
          "name": "stdout",
          "text": [
            "\b\b\b\b\b\b\b\b\b\b\b\b\b\b\b\b\b\b\b\b\b\b\b\b\b\b\b\b\b\b\b\b\b\b\b\b\b\b\b\b\b\b\b\b\b\b\b\b\b\b\b\b\b\b\b\b\b\b\b\b\b\b\b\b\b\b\b\b\b\b\b\b\b\b\b\b\b\b\b\b\b\b\r81/81 [==============================] - 20s 251ms/step - loss: 0.4374 - accuracy: 0.9046 - val_loss: 2.2201 - val_accuracy: 0.6895\n",
            "Epoch 11/70\n",
            "81/81 [==============================] - ETA: 0s - loss: 0.3250 - accuracy: 0.9283\n",
            "Epoch 11: saving model to DubverseAI.hdf5\n",
            "81/81 [==============================] - 12s 147ms/step - loss: 0.3250 - accuracy: 0.9283 - val_loss: 2.2449 - val_accuracy: 0.7002\n",
            "Epoch 12/70\n",
            "81/81 [==============================] - ETA: 0s - loss: 0.2504 - accuracy: 0.9450\n",
            "Epoch 12: saving model to DubverseAI.hdf5\n",
            "81/81 [==============================] - 11s 139ms/step - loss: 0.2504 - accuracy: 0.9450 - val_loss: 2.2543 - val_accuracy: 0.7102\n",
            "Epoch 13/70\n",
            "81/81 [==============================] - ETA: 0s - loss: 0.1976 - accuracy: 0.9555\n",
            "Epoch 13: saving model to DubverseAI.hdf5\n",
            "81/81 [==============================] - 11s 140ms/step - loss: 0.1976 - accuracy: 0.9555 - val_loss: 2.2335 - val_accuracy: 0.7240\n",
            "Epoch 14/70\n",
            "81/81 [==============================] - ETA: 0s - loss: 0.1487 - accuracy: 0.9684\n",
            "Epoch 14: saving model to DubverseAI.hdf5\n",
            "81/81 [==============================] - 11s 140ms/step - loss: 0.1487 - accuracy: 0.9684 - val_loss: 2.2468 - val_accuracy: 0.7380\n",
            "Epoch 15/70\n",
            "81/81 [==============================] - ETA: 0s - loss: 0.1146 - accuracy: 0.9746\n",
            "Epoch 15: saving model to DubverseAI.hdf5\n",
            "81/81 [==============================] - 11s 141ms/step - loss: 0.1146 - accuracy: 0.9746 - val_loss: 2.2842 - val_accuracy: 0.7381\n",
            "Epoch 16/70\n",
            "81/81 [==============================] - ETA: 0s - loss: 0.0894 - accuracy: 0.9812\n",
            "Epoch 16: saving model to DubverseAI.hdf5\n",
            "81/81 [==============================] - 12s 149ms/step - loss: 0.0894 - accuracy: 0.9812 - val_loss: 2.2719 - val_accuracy: 0.7479\n",
            "Epoch 17/70\n",
            "81/81 [==============================] - ETA: 0s - loss: 0.0706 - accuracy: 0.9859\n",
            "Epoch 17: saving model to DubverseAI.hdf5\n",
            "81/81 [==============================] - 11s 141ms/step - loss: 0.0706 - accuracy: 0.9859 - val_loss: 2.3079 - val_accuracy: 0.7469\n",
            "Epoch 18/70\n",
            "81/81 [==============================] - ETA: 0s - loss: 0.0504 - accuracy: 0.9901\n",
            "Epoch 18: saving model to DubverseAI.hdf5\n",
            "81/81 [==============================] - 12s 142ms/step - loss: 0.0504 - accuracy: 0.9901 - val_loss: 2.3496 - val_accuracy: 0.7507\n",
            "Epoch 19/70\n",
            "81/81 [==============================] - ETA: 0s - loss: 0.0466 - accuracy: 0.9908\n",
            "Epoch 19: saving model to DubverseAI.hdf5\n",
            "81/81 [==============================] - 12s 143ms/step - loss: 0.0466 - accuracy: 0.9908 - val_loss: 2.4016 - val_accuracy: 0.7435\n",
            "Epoch 20/70\n",
            "81/81 [==============================] - ETA: 0s - loss: 0.0578 - accuracy: 0.9884\n",
            "Epoch 20: saving model to DubverseAI.hdf5\n",
            "81/81 [==============================] - 12s 143ms/step - loss: 0.0578 - accuracy: 0.9884 - val_loss: 2.4596 - val_accuracy: 0.7391\n",
            "Epoch 21/70\n",
            "81/81 [==============================] - ETA: 0s - loss: 0.0802 - accuracy: 0.9830\n",
            "Epoch 21: saving model to DubverseAI.hdf5\n",
            "81/81 [==============================] - 12s 149ms/step - loss: 0.0802 - accuracy: 0.9830 - val_loss: 2.4052 - val_accuracy: 0.7385\n",
            "Epoch 22/70\n",
            "81/81 [==============================] - ETA: 0s - loss: 0.1203 - accuracy: 0.9709\n",
            "Epoch 22: saving model to DubverseAI.hdf5\n",
            "81/81 [==============================] - 12s 142ms/step - loss: 0.1203 - accuracy: 0.9709 - val_loss: 2.4986 - val_accuracy: 0.7276\n",
            "Epoch 23/70\n",
            "81/81 [==============================] - ETA: 0s - loss: 0.1944 - accuracy: 0.9497\n",
            "Epoch 23: saving model to DubverseAI.hdf5\n",
            "81/81 [==============================] - 12s 149ms/step - loss: 0.1944 - accuracy: 0.9497 - val_loss: 2.5130 - val_accuracy: 0.7200\n",
            "Epoch 24/70\n",
            "81/81 [==============================] - ETA: 0s - loss: 0.2417 - accuracy: 0.9355\n",
            "Epoch 24: saving model to DubverseAI.hdf5\n",
            "81/81 [==============================] - 12s 143ms/step - loss: 0.2417 - accuracy: 0.9355 - val_loss: 2.5148 - val_accuracy: 0.7139\n",
            "Epoch 25/70\n",
            "81/81 [==============================] - ETA: 0s - loss: 0.2001 - accuracy: 0.9465\n",
            "Epoch 25: saving model to DubverseAI.hdf5\n",
            "81/81 [==============================] - 12s 146ms/step - loss: 0.2001 - accuracy: 0.9465 - val_loss: 2.5237 - val_accuracy: 0.7260\n",
            "Epoch 26/70\n",
            "81/81 [==============================] - ETA: 0s - loss: 0.1410 - accuracy: 0.9623\n",
            "Epoch 26: saving model to DubverseAI.hdf5\n",
            "81/81 [==============================] - 12s 145ms/step - loss: 0.1410 - accuracy: 0.9623 - val_loss: 2.5496 - val_accuracy: 0.7327\n",
            "Epoch 27/70\n",
            "81/81 [==============================] - ETA: 0s - loss: 0.0809 - accuracy: 0.9807\n",
            "Epoch 27: saving model to DubverseAI.hdf5\n",
            "81/81 [==============================] - 12s 145ms/step - loss: 0.0809 - accuracy: 0.9807 - val_loss: 2.5187 - val_accuracy: 0.7441\n",
            "Epoch 28/70\n",
            "81/81 [==============================] - ETA: 0s - loss: 0.0452 - accuracy: 0.9895\n",
            "Epoch 28: saving model to DubverseAI.hdf5\n",
            "81/81 [==============================] - 12s 144ms/step - loss: 0.0452 - accuracy: 0.9895 - val_loss: 2.5270 - val_accuracy: 0.7494\n",
            "Epoch 29/70\n",
            "81/81 [==============================] - ETA: 0s - loss: 0.0345 - accuracy: 0.9924\n",
            "Epoch 29: saving model to DubverseAI.hdf5\n",
            "81/81 [==============================] - 12s 144ms/step - loss: 0.0345 - accuracy: 0.9924 - val_loss: 2.5707 - val_accuracy: 0.7456\n",
            "Epoch 30/70\n",
            "81/81 [==============================] - ETA: 0s - loss: 0.0253 - accuracy: 0.9950\n",
            "Epoch 30: saving model to DubverseAI.hdf5\n",
            "81/81 [==============================] - 12s 143ms/step - loss: 0.0253 - accuracy: 0.9950 - val_loss: 2.5910 - val_accuracy: 0.7513\n",
            "Epoch 31/70\n",
            "81/81 [==============================] - ETA: 0s - loss: 0.0207 - accuracy: 0.9961\n",
            "Epoch 31: saving model to DubverseAI.hdf5\n",
            "81/81 [==============================] - 12s 144ms/step - loss: 0.0207 - accuracy: 0.9961 - val_loss: 2.6523 - val_accuracy: 0.7467\n",
            "Epoch 32/70\n",
            "81/81 [==============================] - ETA: 0s - loss: 0.0185 - accuracy: 0.9964\n",
            "Epoch 32: saving model to DubverseAI.hdf5\n",
            "81/81 [==============================] - 12s 143ms/step - loss: 0.0185 - accuracy: 0.9964 - val_loss: 2.7083 - val_accuracy: 0.7452\n",
            "Epoch 33/70\n",
            "81/81 [==============================] - ETA: 0s - loss: 0.0147 - accuracy: 0.9970\n",
            "Epoch 33: saving model to DubverseAI.hdf5\n",
            "81/81 [==============================] - 12s 143ms/step - loss: 0.0147 - accuracy: 0.9970 - val_loss: 2.6907 - val_accuracy: 0.7493\n",
            "Epoch 34/70\n",
            "81/81 [==============================] - ETA: 0s - loss: 0.0165 - accuracy: 0.9966\n",
            "Epoch 34: saving model to DubverseAI.hdf5\n",
            "81/81 [==============================] - 12s 144ms/step - loss: 0.0165 - accuracy: 0.9966 - val_loss: 2.6791 - val_accuracy: 0.7518\n",
            "Epoch 35/70\n",
            "81/81 [==============================] - ETA: 0s - loss: 0.0137 - accuracy: 0.9975\n",
            "Epoch 35: saving model to DubverseAI.hdf5\n",
            "81/81 [==============================] - 12s 146ms/step - loss: 0.0137 - accuracy: 0.9975 - val_loss: 2.6909 - val_accuracy: 0.7505\n",
            "Epoch 36/70\n",
            "81/81 [==============================] - ETA: 0s - loss: 0.0189 - accuracy: 0.9964\n",
            "Epoch 36: saving model to DubverseAI.hdf5\n",
            "81/81 [==============================] - 13s 154ms/step - loss: 0.0189 - accuracy: 0.9964 - val_loss: 2.6624 - val_accuracy: 0.7480\n",
            "Epoch 37/70\n",
            "81/81 [==============================] - ETA: 0s - loss: 0.0237 - accuracy: 0.9946\n",
            "Epoch 37: saving model to DubverseAI.hdf5\n",
            "81/81 [==============================] - 12s 145ms/step - loss: 0.0237 - accuracy: 0.9946 - val_loss: 2.7180 - val_accuracy: 0.7441\n",
            "Epoch 38/70\n",
            "81/81 [==============================] - ETA: 0s - loss: 0.0408 - accuracy: 0.9903\n",
            "Epoch 38: saving model to DubverseAI.hdf5\n",
            "81/81 [==============================] - 12s 143ms/step - loss: 0.0408 - accuracy: 0.9903 - val_loss: 2.7416 - val_accuracy: 0.7464\n",
            "Epoch 39/70\n",
            "81/81 [==============================] - ETA: 0s - loss: 0.1131 - accuracy: 0.9700\n",
            "Epoch 39: saving model to DubverseAI.hdf5\n",
            "81/81 [==============================] - 12s 143ms/step - loss: 0.1131 - accuracy: 0.9700 - val_loss: 2.7664 - val_accuracy: 0.7222\n",
            "Epoch 40/70\n",
            "81/81 [==============================] - ETA: 0s - loss: 0.3224 - accuracy: 0.9126\n",
            "Epoch 40: saving model to DubverseAI.hdf5\n",
            "81/81 [==============================] - 12s 145ms/step - loss: 0.3224 - accuracy: 0.9126 - val_loss: 2.7173 - val_accuracy: 0.6923\n",
            "Epoch 41/70\n",
            "81/81 [==============================] - ETA: 0s - loss: 0.3325 - accuracy: 0.9090\n",
            "Epoch 41: saving model to DubverseAI.hdf5\n",
            "81/81 [==============================] - 12s 144ms/step - loss: 0.3325 - accuracy: 0.9090 - val_loss: 2.7574 - val_accuracy: 0.7086\n",
            "Epoch 42/70\n",
            "81/81 [==============================] - ETA: 0s - loss: 0.1878 - accuracy: 0.9481\n",
            "Epoch 42: saving model to DubverseAI.hdf5\n",
            "81/81 [==============================] - 12s 144ms/step - loss: 0.1878 - accuracy: 0.9481 - val_loss: 2.7027 - val_accuracy: 0.7263\n",
            "Epoch 43/70\n",
            "81/81 [==============================] - ETA: 0s - loss: 0.0924 - accuracy: 0.9747\n",
            "Epoch 43: saving model to DubverseAI.hdf5\n",
            "81/81 [==============================] - 12s 143ms/step - loss: 0.0924 - accuracy: 0.9747 - val_loss: 2.7221 - val_accuracy: 0.7451\n",
            "Epoch 44/70\n",
            "81/81 [==============================] - ETA: 0s - loss: 0.0460 - accuracy: 0.9885\n",
            "Epoch 44: saving model to DubverseAI.hdf5\n",
            "81/81 [==============================] - 12s 143ms/step - loss: 0.0460 - accuracy: 0.9885 - val_loss: 2.7604 - val_accuracy: 0.7503\n",
            "Epoch 45/70\n",
            "81/81 [==============================] - ETA: 0s - loss: 0.0281 - accuracy: 0.9932\n",
            "Epoch 45: saving model to DubverseAI.hdf5\n",
            "81/81 [==============================] - 12s 143ms/step - loss: 0.0281 - accuracy: 0.9932 - val_loss: 2.7772 - val_accuracy: 0.7495\n",
            "Epoch 46/70\n",
            "81/81 [==============================] - ETA: 0s - loss: 0.0150 - accuracy: 0.9968\n",
            "Epoch 46: saving model to DubverseAI.hdf5\n",
            "81/81 [==============================] - 12s 144ms/step - loss: 0.0150 - accuracy: 0.9968 - val_loss: 2.7947 - val_accuracy: 0.7552\n",
            "Epoch 47/70\n",
            "81/81 [==============================] - ETA: 0s - loss: 0.0101 - accuracy: 0.9981\n",
            "Epoch 47: saving model to DubverseAI.hdf5\n",
            "81/81 [==============================] - 12s 153ms/step - loss: 0.0101 - accuracy: 0.9981 - val_loss: 2.8693 - val_accuracy: 0.7503\n",
            "Epoch 48/70\n",
            "81/81 [==============================] - ETA: 0s - loss: 0.0053 - accuracy: 0.9992\n",
            "Epoch 48: saving model to DubverseAI.hdf5\n",
            "81/81 [==============================] - 12s 154ms/step - loss: 0.0053 - accuracy: 0.9992 - val_loss: 2.8525 - val_accuracy: 0.7529\n",
            "Epoch 49/70\n",
            "81/81 [==============================] - ETA: 0s - loss: 0.0029 - accuracy: 0.9997\n",
            "Epoch 49: saving model to DubverseAI.hdf5\n",
            "81/81 [==============================] - 12s 148ms/step - loss: 0.0029 - accuracy: 0.9997 - val_loss: 2.8493 - val_accuracy: 0.7514\n",
            "Epoch 50/70\n",
            "81/81 [==============================] - ETA: 0s - loss: 0.0020 - accuracy: 0.9998\n",
            "Epoch 50: saving model to DubverseAI.hdf5\n",
            "81/81 [==============================] - 12s 146ms/step - loss: 0.0020 - accuracy: 0.9998 - val_loss: 2.8549 - val_accuracy: 0.7538\n",
            "Epoch 51/70\n",
            "81/81 [==============================] - ETA: 0s - loss: 0.0011 - accuracy: 0.9999\n",
            "Epoch 51: saving model to DubverseAI.hdf5\n",
            "81/81 [==============================] - 12s 143ms/step - loss: 0.0011 - accuracy: 0.9999 - val_loss: 2.8623 - val_accuracy: 0.7539\n",
            "Epoch 52/70\n",
            "81/81 [==============================] - ETA: 0s - loss: 9.6463e-04 - accuracy: 1.0000\n",
            "Epoch 52: saving model to DubverseAI.hdf5\n",
            "81/81 [==============================] - 12s 143ms/step - loss: 9.6463e-04 - accuracy: 1.0000 - val_loss: 2.8728 - val_accuracy: 0.7546\n",
            "Epoch 53/70\n",
            "81/81 [==============================] - ETA: 0s - loss: 0.0010 - accuracy: 0.9999\n",
            "Epoch 53: saving model to DubverseAI.hdf5\n",
            "81/81 [==============================] - 12s 144ms/step - loss: 0.0010 - accuracy: 0.9999 - val_loss: 2.8829 - val_accuracy: 0.7540\n",
            "Epoch 54/70\n",
            "81/81 [==============================] - ETA: 0s - loss: 0.0011 - accuracy: 0.9999\n",
            "Epoch 54: saving model to DubverseAI.hdf5\n",
            "81/81 [==============================] - 12s 145ms/step - loss: 0.0011 - accuracy: 0.9999 - val_loss: 2.8890 - val_accuracy: 0.7547\n",
            "Epoch 55/70\n",
            "81/81 [==============================] - ETA: 0s - loss: 0.0022 - accuracy: 0.9997\n",
            "Epoch 55: saving model to DubverseAI.hdf5\n",
            "81/81 [==============================] - 12s 145ms/step - loss: 0.0022 - accuracy: 0.9997 - val_loss: 2.9237 - val_accuracy: 0.7529\n",
            "Epoch 56/70\n",
            "81/81 [==============================] - ETA: 0s - loss: 0.0037 - accuracy: 0.9992\n",
            "Epoch 56: saving model to DubverseAI.hdf5\n",
            "81/81 [==============================] - 12s 145ms/step - loss: 0.0037 - accuracy: 0.9992 - val_loss: 2.9130 - val_accuracy: 0.7518\n",
            "Epoch 57/70\n",
            "81/81 [==============================] - ETA: 0s - loss: 0.0114 - accuracy: 0.9976\n",
            "Epoch 57: saving model to DubverseAI.hdf5\n",
            "81/81 [==============================] - 12s 142ms/step - loss: 0.0114 - accuracy: 0.9976 - val_loss: 2.8880 - val_accuracy: 0.7482\n",
            "Epoch 58/70\n",
            "81/81 [==============================] - ETA: 0s - loss: 0.0179 - accuracy: 0.9960\n",
            "Epoch 58: saving model to DubverseAI.hdf5\n",
            "81/81 [==============================] - 12s 142ms/step - loss: 0.0179 - accuracy: 0.9960 - val_loss: 2.9007 - val_accuracy: 0.7469\n",
            "Epoch 59/70\n",
            "81/81 [==============================] - ETA: 0s - loss: 0.0630 - accuracy: 0.9830\n",
            "Epoch 59: saving model to DubverseAI.hdf5\n",
            "81/81 [==============================] - 12s 150ms/step - loss: 0.0630 - accuracy: 0.9830 - val_loss: 2.9530 - val_accuracy: 0.7303\n",
            "Epoch 60/70\n",
            "81/81 [==============================] - ETA: 0s - loss: 0.3278 - accuracy: 0.9103\n",
            "Epoch 60: saving model to DubverseAI.hdf5\n",
            "81/81 [==============================] - 12s 152ms/step - loss: 0.3278 - accuracy: 0.9103 - val_loss: 3.0438 - val_accuracy: 0.6665\n",
            "Epoch 61/70\n",
            "81/81 [==============================] - ETA: 0s - loss: 0.4840 - accuracy: 0.8709\n",
            "Epoch 61: saving model to DubverseAI.hdf5\n",
            "81/81 [==============================] - 12s 146ms/step - loss: 0.4840 - accuracy: 0.8709 - val_loss: 2.7640 - val_accuracy: 0.6950\n",
            "Epoch 62/70\n",
            "81/81 [==============================] - ETA: 0s - loss: 0.2411 - accuracy: 0.9329\n",
            "Epoch 62: saving model to DubverseAI.hdf5\n",
            "81/81 [==============================] - 13s 154ms/step - loss: 0.2411 - accuracy: 0.9329 - val_loss: 2.8426 - val_accuracy: 0.7247\n",
            "Epoch 63/70\n",
            "81/81 [==============================] - ETA: 0s - loss: 0.0990 - accuracy: 0.9718\n",
            "Epoch 63: saving model to DubverseAI.hdf5\n",
            "81/81 [==============================] - 12s 154ms/step - loss: 0.0990 - accuracy: 0.9718 - val_loss: 2.8710 - val_accuracy: 0.7368\n",
            "Epoch 64/70\n",
            "81/81 [==============================] - ETA: 0s - loss: 0.0451 - accuracy: 0.9874\n",
            "Epoch 64: saving model to DubverseAI.hdf5\n",
            "81/81 [==============================] - 12s 143ms/step - loss: 0.0451 - accuracy: 0.9874 - val_loss: 2.8567 - val_accuracy: 0.7464\n",
            "Epoch 65/70\n",
            "81/81 [==============================] - ETA: 0s - loss: 0.0201 - accuracy: 0.9950\n",
            "Epoch 65: saving model to DubverseAI.hdf5\n",
            "81/81 [==============================] - 12s 143ms/step - loss: 0.0201 - accuracy: 0.9950 - val_loss: 2.8954 - val_accuracy: 0.7466\n",
            "Epoch 66/70\n",
            "81/81 [==============================] - ETA: 0s - loss: 0.0094 - accuracy: 0.9982\n",
            "Epoch 66: saving model to DubverseAI.hdf5\n",
            "81/81 [==============================] - 12s 143ms/step - loss: 0.0094 - accuracy: 0.9982 - val_loss: 2.9265 - val_accuracy: 0.7487\n",
            "Epoch 67/70\n",
            "81/81 [==============================] - ETA: 0s - loss: 0.0055 - accuracy: 0.9989\n",
            "Epoch 67: saving model to DubverseAI.hdf5\n",
            "81/81 [==============================] - 12s 144ms/step - loss: 0.0055 - accuracy: 0.9989 - val_loss: 2.9428 - val_accuracy: 0.7508\n",
            "Epoch 68/70\n",
            "81/81 [==============================] - ETA: 0s - loss: 0.0045 - accuracy: 0.9992\n",
            "Epoch 68: saving model to DubverseAI.hdf5\n",
            "81/81 [==============================] - 12s 146ms/step - loss: 0.0045 - accuracy: 0.9992 - val_loss: 2.9696 - val_accuracy: 0.7528\n",
            "Epoch 69/70\n",
            "81/81 [==============================] - ETA: 0s - loss: 0.0039 - accuracy: 0.9995\n",
            "Epoch 69: saving model to DubverseAI.hdf5\n",
            "81/81 [==============================] - 12s 149ms/step - loss: 0.0039 - accuracy: 0.9995 - val_loss: 2.9861 - val_accuracy: 0.7518\n",
            "Epoch 70/70\n",
            "81/81 [==============================] - ETA: 0s - loss: 0.0039 - accuracy: 0.9994\n",
            "Epoch 70: saving model to DubverseAI.hdf5\n",
            "81/81 [==============================] - 12s 148ms/step - loss: 0.0039 - accuracy: 0.9994 - val_loss: 2.9756 - val_accuracy: 0.7539\n"
          ]
        }
      ]
    },
    {
      "cell_type": "code",
      "execution_count": 29,
      "metadata": {
        "id": "GWf-nNooisdf",
        "colab": {
          "base_uri": "https://localhost:8080/",
          "height": 472
        },
        "outputId": "6d1d0616-74a0-4c7a-f8a5-a48671e3eaaa"
      },
      "outputs": [
        {
          "output_type": "display_data",
          "data": {
            "text/plain": [
              "<Figure size 640x480 with 1 Axes>"
            ],
            "image/png": "[encoded data removed]"
          },
          "metadata": {}
        }
      ],
      "source": [
        "import matplotlib.pyplot as plt\n",
        "\n",
        "#plot the training and validation loss\n",
        "plt.plot(history.history['loss'])\n",
        "plt.plot(history.history['val_loss'])\n",
        "plt.title('Model loss')\n",
        "plt.ylabel('Loss')\n",
        "plt.xlabel('Epoch')\n",
        "plt.legend(['Train', 'Validation'], loc='upper right')\n",
        "plt.show()"
      ]
    },
    {
      "cell_type": "code",
      "execution_count": 30,
      "metadata": {
        "id": "-egWX-rNjSB1",
        "colab": {
          "base_uri": "https://localhost:8080/",
          "height": 472
        },
        "outputId": "8fbebb07-1794-4805-a498-f9daf72dda64"
      },
      "outputs": [
        {
          "output_type": "display_data",
          "data": {
            "text/plain": [
              "<Figure size 640x480 with 1 Axes>"
            ],
            "image/png": "[encoded data removed]"
          },
          "metadata": {}
        }
      ],
      "source": [
        "#plot the training and validation loss\n",
        "plt.plot(history.history['accuracy'])\n",
        "plt.plot(history.history['val_accuracy'])\n",
        "plt.title('Model acc')\n",
        "plt.ylabel('acc')\n",
        "plt.xlabel('Epoch')\n",
        "plt.legend(['Train', 'Validation'], loc='upper right')\n",
        "plt.show()"
      ]
    },
    {
      "cell_type": "markdown",
      "source": [
        "### Saving the model"
      ],
      "metadata": {
        "id": "yOEZKFp9BSqR"
      }
    },
    {
      "cell_type": "code",
      "source": [
        "model.save('model.h5')"
      ],
      "metadata": {
        "id": "11SQiWuUBVTO"
      },
      "execution_count": 31,
      "outputs": []
    },
    {
      "cell_type": "code",
      "source": [
        "loaded_model = keras.models.load_model('model.h5',\n",
        "                                       custom_objects={'PositionalEmbedding': PositionalEmbedding,'TransformerEncoder':TransformerEncoder,'TransformerDecoder':TransformerDecoder})"
      ],
      "metadata": {
        "id": "6OUtCJtQEEwf"
      },
      "execution_count": 32,
      "outputs": []
    },
    {
      "cell_type": "code",
      "execution_count": 33,
      "metadata": {
        "id": "32v89ULlVo5M"
      },
      "outputs": [],
      "source": [
        "# saving model achitecture in json file\n",
        "model_json = loaded_model.to_json()\n",
        "with open(\"translator.json\", \"w\") as json_file:\n",
        "    json_file.write(model_json)"
      ]
    },
    {
      "cell_type": "code",
      "execution_count": 34,
      "metadata": {
        "id": "nnGiBW3iVu0K"
      },
      "outputs": [],
      "source": [
        "hindi_vocab = target_vectorization.get_vocabulary()\n",
        "hindi_index_lookup = dict(zip(range(len(hindi_vocab)), hindi_vocab))\n",
        "max_decoded_sentence_length = 158"
      ]
    },
    {
      "cell_type": "markdown",
      "metadata": {
        "id": "LYyBjtLIV09B"
      },
      "source": [
        "#Inference"
      ]
    },
    {
      "cell_type": "code",
      "source": [
        "def decode_sequence(input_sentence):\n",
        "  #toekn input\n",
        "  max_decoded_sentence_length = 160\n",
        "  tokenized_input_sentence = source_vectorization([input_sentence])\n",
        "  #token input\n",
        "  decoded_sentence = \"[start]\"\n",
        "  for i in range(max_decoded_sentence_length):\n",
        "        tokenized_target_sentence = target_vectorization(\n",
        "            [decoded_sentence])[:, :-1]\n",
        "        predictions = loaded_model(\n",
        "            [tokenized_input_sentence, tokenized_target_sentence])\n",
        "        sampled_token_index = np.argmax(predictions[0, i, :])\n",
        "        sampled_token = hindi_index_lookup[sampled_token_index]\n",
        "        decoded_sentence += \" \" + sampled_token\n",
        "        if sampled_token == \"[end]\":\n",
        "            break\n",
        "        decoded_sentence = decoded_sentence.replace(\"[start]\", \"\")\n",
        "        new = decoded_sentence.replace(\"[end]\", \"\")\n",
        "  return new"
      ],
      "metadata": {
        "id": "mKg1UerdocOd"
      },
      "execution_count": 40,
      "outputs": []
    },
    {
      "cell_type": "markdown",
      "source": [
        "### Different inputs"
      ],
      "metadata": {
        "id": "N4jEgisXwmU8"
      }
    },
    {
      "cell_type": "code",
      "source": [
        "output = decode_sequence(\"Action is the foundational key to all success.\")\n",
        "print(output)"
      ],
      "metadata": {
        "colab": {
          "base_uri": "https://localhost:8080/"
        },
        "id": "5ZomZQm3oEuc",
        "outputId": "7c08f54a-ca14-4c8a-833f-2ae3898b50ee"
      },
      "execution_count": 43,
      "outputs": [
        {
          "output_type": "stream",
          "name": "stdout",
          "text": [
            " कर्म क्रांतिकारी जो [UNK] [UNK] [UNK] [UNK] के [UNK]\n"
          ]
        }
      ]
    },
    {
      "cell_type": "code",
      "source": [
        "output = decode_sequence(\"I am learning for you.\")\n",
        "print(output)"
      ],
      "metadata": {
        "colab": {
          "base_uri": "https://localhost:8080/"
        },
        "id": "6eyA-DJ0vmE2",
        "outputId": "407b7a2a-62fa-4ea9-94a9-61c7af01ee3f"
      },
      "execution_count": 45,
      "outputs": [
        {
          "output_type": "stream",
          "name": "stdout",
          "text": [
            " मैं मैं आपके [UNK] [UNK] तुम [UNK] के [UNK]\n"
          ]
        }
      ]
    },
    {
      "cell_type": "code",
      "source": [],
      "metadata": {
        "id": "-NYwvRk3wvkE"
      },
      "execution_count": null,
      "outputs": []
    }
  ],
  "metadata": {
    "accelerator": "GPU",
    "colab": {
      "provenance": [],
      "collapsed_sections": [
        "acKYrl4ubo4e"
      ]
    },
    "gpuClass": "standard",
    "kernelspec": {
      "display_name": "Python 3 (ipykernel)",
      "language": "python",
      "name": "python3"
    },
    "language_info": {
      "codemirror_mode": {
        "name": "ipython",
        "version": 3
      },
      "file_extension": ".py",
      "mimetype": "text/x-python",
      "name": "python",
      "nbconvert_exporter": "python",
      "pygments_lexer": "ipython3",
      "version": "3.9.11"
    }
  },
  "nbformat": 4,
  "nbformat_minor": 0
}